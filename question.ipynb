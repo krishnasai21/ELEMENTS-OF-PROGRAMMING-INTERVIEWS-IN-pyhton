{
 "metadata": {
  "language_info": {
   "codemirror_mode": {
    "name": "ipython",
    "version": 3
   },
   "file_extension": ".py",
   "mimetype": "text/x-python",
   "name": "python",
   "nbconvert_exporter": "python",
   "pygments_lexer": "ipython3",
   "version": 3
  },
  "orig_nbformat": 2
 },
 "nbformat": 4,
 "nbformat_minor": 2,
 "cells": [
  {
   "cell_type": "code",
   "execution_count": null,
   "metadata": {},
   "outputs": [],
   "source": [
    "Check If a Decimal Integer is a Palindrome..\n",
    "\n",
    "A Palindrome string is one which reads the same forwards and backwards, e.g, \"redivider\" . In this question we are going to write a program which determines if the Decimal representation of an integer is a Palindrome string. For example our program has to return true for the inputs 0,1,7,11,121,333, and 21474474121 and flase for the inputs  -1, 12,100, and 2147483647."
   ]
  },
  {
   "cell_type": "code",
   "execution_count": null,
   "metadata": {},
   "outputs": [],
   "source": [
    "Solution : \n",
    "          Noting down all the if the inputs is negative, then its representation as a secimal string cannot br palindromic, since it begins with a -.A brute-force approach would be to convert the input to a string and then  iterate through the string, pairwise comparing digits starting from the least significant digit and  the most significant digit, and working inwards, stopping if there is a mismatch. The time and space complexity and O(n) where n is the number of digits in the input."
   ]
  }
 ]
}